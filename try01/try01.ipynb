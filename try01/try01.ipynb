{
 "cells": [
  {
   "cell_type": "code",
   "execution_count": 2,
   "metadata": {},
   "outputs": [],
   "source": [
    "import torch\n",
    "import numpy as np\n",
    "import pandas as pd\n",
    "import glob\n",
    "import os\n",
    "from sklearn.decomposition import PCA, KernelPCA\n",
    "\n",
    "from torch.utils.data import TensorDataset, DataLoader, Dataset\n",
    "from sklearn.model_selection import train_test_split\n",
    "from torch import nn\n",
    "from torch import optim\n",
    "import torchvision.transforms as tr\n",
    "import matplotlib.pyplot as plt\n",
    "\n",
    "import time"
   ]
  },
  {
   "cell_type": "code",
   "execution_count": 3,
   "metadata": {},
   "outputs": [
    {
     "data": {
      "text/plain": [
       "(700, 5)"
      ]
     },
     "execution_count": 3,
     "metadata": {},
     "output_type": "execute_result"
    }
   ],
   "source": [
    "path = 'C:/Users/kbj/Downloads/data/train/x/'\n",
    "data_train_x_list = os.listdir('C:/Users/kbj/Downloads/data/train/x/')\n",
    "path = 'C:/Users/kbj/Downloads/data/train/x/'\n",
    "x_train_mean = np.array([])\n",
    "x_train_var = np.array([])\n",
    "x_train_std = np.array([])\n",
    "x_train_max = np.array([])\n",
    "x_train_min = np.array([])\n",
    "\n",
    "for i in data_train_x_list:\n",
    "    df = pd.read_csv(path+i, header=None)\n",
    "    mean = np.mean(df.to_numpy())\n",
    "    var = np.var(df.to_numpy())\n",
    "    std = np.std(df.to_numpy())\n",
    "    max = np.max(df.to_numpy())\n",
    "    min = np.min(df.to_numpy())\n",
    "    x_train_mean = np.append(x_train_mean, mean)\n",
    "    x_train_var = np.append(x_train_var, var)\n",
    "    x_train_std = np.append(x_train_std, std)\n",
    "    x_train_max = np.append(x_train_max, max)\n",
    "    x_train_min = np.append(x_train_min, min)\n",
    "\n",
    "x_train_feature = np.concatenate((x_train_mean.reshape(-1,1), x_train_var.reshape(-1,1), x_train_std.reshape(-1,1), x_train_max.reshape(-1,1), x_train_min.reshape(-1,1)), axis=1)\n",
    "x_train_feature.shape"
   ]
  },
  {
   "cell_type": "code",
   "execution_count": 4,
   "metadata": {},
   "outputs": [
    {
     "data": {
      "text/plain": [
       "(700, 5)"
      ]
     },
     "execution_count": 4,
     "metadata": {},
     "output_type": "execute_result"
    }
   ],
   "source": [
    "path = 'C:/Users/kbj/Downloads/data/train/y/'\n",
    "data_train_y_list = os.listdir('C:/Users/kbj/Downloads/data/train/y/')\n",
    "path = 'C:/Users/kbj/Downloads/data/train/y/'\n",
    "y_train_mean = np.array([])\n",
    "y_train_var = np.array([])\n",
    "y_train_std = np.array([])\n",
    "y_train_max = np.array([])\n",
    "y_train_min = np.array([])\n",
    "\n",
    "for i in data_train_y_list:\n",
    "    df = pd.read_csv(path+i, header=None)\n",
    "    mean = np.mean(df.to_numpy())\n",
    "    var = np.var(df.to_numpy())\n",
    "    std = np.std(df.to_numpy())\n",
    "    max = np.max(df.to_numpy())\n",
    "    min = np.min(df.to_numpy())\n",
    "    y_train_mean = np.append(y_train_mean, mean)\n",
    "    y_train_var = np.append(y_train_var, var)\n",
    "    y_train_std = np.append(y_train_std, std)\n",
    "    y_train_max = np.append(y_train_max, max)\n",
    "    y_train_min = np.append(y_train_min, min)\n",
    "\n",
    "y_train_feature = np.concatenate((y_train_mean.reshape(-1,1), y_train_var.reshape(-1,1), y_train_std.reshape(-1,1), y_train_max.reshape(-1,1), y_train_min.reshape(-1,1)), axis=1)\n",
    "y_train_feature.shape"
   ]
  },
  {
   "cell_type": "code",
   "execution_count": 5,
   "metadata": {},
   "outputs": [
    {
     "data": {
      "text/plain": [
       "(700, 5)"
      ]
     },
     "execution_count": 5,
     "metadata": {},
     "output_type": "execute_result"
    }
   ],
   "source": [
    "path = 'C:/Users/kbj/Downloads/data/train/z/'\n",
    "data_train_z_list = os.listdir('C:/Users/kbj/Downloads/data/train/z/')\n",
    "path = 'C:/Users/kbj/Downloads/data/train/z/'\n",
    "z_train_mean = np.array([])\n",
    "z_train_var = np.array([])\n",
    "z_train_std = np.array([])\n",
    "z_train_max = np.array([])\n",
    "z_train_min = np.array([])\n",
    "\n",
    "for i in data_train_z_list:\n",
    "    df = pd.read_csv(path+i, header=None)\n",
    "    mean = np.mean(df.to_numpy())\n",
    "    var = np.var(df.to_numpy())\n",
    "    std = np.std(df.to_numpy())\n",
    "    max = np.max(df.to_numpy())\n",
    "    min = np.min(df.to_numpy())\n",
    "    z_train_mean = np.append(z_train_mean, mean)\n",
    "    z_train_var = np.append(z_train_var, var)\n",
    "    z_train_std = np.append(z_train_std, std)\n",
    "    z_train_max = np.append(z_train_max, max)\n",
    "    z_train_min = np.append(z_train_min, min)\n",
    "\n",
    "z_train_feature = np.concatenate((z_train_mean.reshape(-1,1), z_train_var.reshape(-1,1), z_train_std.reshape(-1,1), z_train_max.reshape(-1,1), z_train_min.reshape(-1,1)), axis=1)\n",
    "z_train_feature.shape"
   ]
  },
  {
   "cell_type": "code",
   "execution_count": 6,
   "metadata": {},
   "outputs": [
    {
     "data": {
      "text/plain": [
       "(700, 5)"
      ]
     },
     "execution_count": 6,
     "metadata": {},
     "output_type": "execute_result"
    }
   ],
   "source": [
    "path = 'C:/Users/kbj/Downloads/data/train/e/'\n",
    "data_train_e_list = os.listdir('C:/Users/kbj/Downloads/data/train/e/')\n",
    "path = 'C:/Users/kbj/Downloads/data/train/e/'\n",
    "e_train_mean = np.array([])\n",
    "e_train_var = np.array([])\n",
    "e_train_std = np.array([])\n",
    "e_train_max = np.array([])\n",
    "e_train_min = np.array([])\n",
    "\n",
    "for i in data_train_e_list:\n",
    "    df = pd.read_csv(path+i, header=None)\n",
    "    mean = np.mean(df.to_numpy())\n",
    "    var = np.var(df.to_numpy())\n",
    "    std = np.std(df.to_numpy())\n",
    "    max = np.max(df.to_numpy())\n",
    "    min = np.min(df.to_numpy())\n",
    "    e_train_mean = np.append(e_train_mean, mean)\n",
    "    e_train_var = np.append(e_train_var, var)\n",
    "    e_train_std = np.append(e_train_std, std)\n",
    "    e_train_max = np.append(e_train_max, max)\n",
    "    e_train_min = np.append(e_train_min, min)\n",
    "\n",
    "e_train_feature = np.concatenate((e_train_mean.reshape(-1,1), e_train_var.reshape(-1,1), e_train_std.reshape(-1,1), e_train_max.reshape(-1,1), e_train_min.reshape(-1,1)), axis=1)\n",
    "e_train_feature.shape\n",
    "\n"
   ]
  },
  {
   "cell_type": "code",
   "execution_count": 7,
   "metadata": {},
   "outputs": [
    {
     "data": {
      "text/plain": [
       "(700, 20)"
      ]
     },
     "execution_count": 7,
     "metadata": {},
     "output_type": "execute_result"
    }
   ],
   "source": [
    "#xyz_train_feature = np.sqrt(np.square(x_train_feature[:,0])+np.square(y_train_feature[:,0])+np.square(z_train_feature[:,0]))\n",
    "#xyz_train_feature = xyz_train_feature.reshape(-1,1)\n",
    "#all_train_feature = np.concatenate((x_train_feature, y_train_feature, z_train_feature, e_train_feature, xyz_train_feature), axis=1)\n",
    "all_train_feature = np.concatenate((x_train_feature, y_train_feature, z_train_feature, e_train_feature), axis=1)\n",
    "all_train_feature.shape"
   ]
  },
  {
   "cell_type": "code",
   "execution_count": 8,
   "metadata": {},
   "outputs": [
    {
     "data": {
      "text/plain": [
       "(700, 1)"
      ]
     },
     "execution_count": 8,
     "metadata": {},
     "output_type": "execute_result"
    }
   ],
   "source": [
    "train_label = pd.read_csv('C:/Users/kbj/Downloads/data/train/train_label.csv', header=None)\n",
    "train_label = train_label.to_numpy()\n",
    "\n",
    "train_label.shape"
   ]
  },
  {
   "cell_type": "code",
   "execution_count": 9,
   "metadata": {},
   "outputs": [
    {
     "name": "stdout",
     "output_type": "stream",
     "text": [
      "(1400, 5)\n",
      "(1400, 5)\n",
      "(1400, 5)\n",
      "(1400, 5)\n",
      "(1400, 20)\n",
      "(1400, 1)\n"
     ]
    }
   ],
   "source": [
    "path_x = 'C:/Users/kbj/Downloads/data/test/x/'\n",
    "data_test_x_list = os.listdir('C:/Users/kbj/Downloads/data/test/x/')\n",
    "x_test_mean = np.array([])\n",
    "x_test_var = np.array([])\n",
    "x_test_std = np.array([])\n",
    "x_test_max = np.array([])\n",
    "x_test_min = np.array([])\n",
    "\n",
    "for i in data_test_x_list:\n",
    "    df = pd.read_csv(path_x+i, header=None)\n",
    "    mean = np.mean(df.to_numpy())\n",
    "    var = np.var(df.to_numpy())\n",
    "    std = np.std(df.to_numpy())\n",
    "    max = np.max(df.to_numpy())\n",
    "    min = np.min(df.to_numpy())\n",
    "    x_test_mean = np.append(x_test_mean, mean)\n",
    "    x_test_var = np.append(x_test_var, var)\n",
    "    x_test_std = np.append(x_test_std, std)\n",
    "    x_test_max = np.append(x_test_max, max)\n",
    "    x_test_min = np.append(x_test_min, min)\n",
    "\n",
    "x_test_feature = np.concatenate((x_test_mean.reshape(-1,1), x_test_var.reshape(-1,1), x_test_std.reshape(-1,1), x_test_max.reshape(-1,1), x_test_min.reshape(-1,1)), axis=1)\n",
    "print(x_test_feature.shape)\n",
    "\n",
    "path_y = 'C:/Users/kbj/Downloads/data/test/y/'\n",
    "data_test_y_list = os.listdir('C:/Users/kbj/Downloads/data/test/y/')\n",
    "y_test_mean = np.array([])\n",
    "y_test_var = np.array([])\n",
    "y_test_std = np.array([])\n",
    "y_test_max = np.array([])\n",
    "y_test_min = np.array([])\n",
    "\n",
    "for i in data_test_y_list:\n",
    "    df = pd.read_csv(path_y+i, header=None)\n",
    "    mean = np.mean(df.to_numpy())\n",
    "    var = np.var(df.to_numpy())\n",
    "    std = np.std(df.to_numpy())\n",
    "    max = np.max(df.to_numpy())\n",
    "    min = np.min(df.to_numpy())\n",
    "    y_test_mean = np.append(y_test_mean, mean)\n",
    "    y_test_var = np.append(y_test_var, var)\n",
    "    y_test_std = np.append(y_test_std, std)\n",
    "    y_test_max = np.append(y_test_max, max)\n",
    "    y_test_min = np.append(y_test_min, min)\n",
    "\n",
    "y_test_feature = np.concatenate((y_test_mean.reshape(-1,1), y_test_var.reshape(-1,1), y_test_std.reshape(-1,1), y_test_max.reshape(-1,1), y_test_min.reshape(-1,1)), axis=1)\n",
    "print(y_test_feature.shape)\n",
    "\n",
    "path_z = 'C:/Users/kbj/Downloads/data/test/z/'\n",
    "data_test_z_list = os.listdir('C:/Users/kbj/Downloads/data/test/z/')\n",
    "z_test_mean = np.array([])\n",
    "z_test_var = np.array([])\n",
    "z_test_std = np.array([])\n",
    "z_test_max = np.array([])\n",
    "z_test_min = np.array([])\n",
    "\n",
    "for i in data_test_z_list:\n",
    "    df = pd.read_csv(path_z+i, header=None)\n",
    "    mean = np.mean(df.to_numpy())\n",
    "    var = np.var(df.to_numpy())\n",
    "    std = np.std(df.to_numpy())\n",
    "    max = np.max(df.to_numpy())\n",
    "    min = np.min(df.to_numpy())\n",
    "    z_test_mean = np.append(z_test_mean, mean)\n",
    "    z_test_var = np.append(z_test_var, var)\n",
    "    z_test_std = np.append(z_test_std, std)\n",
    "    z_test_max = np.append(z_test_max, max)\n",
    "    z_test_min = np.append(z_test_min, min)\n",
    "\n",
    "z_test_feature = np.concatenate((z_test_mean.reshape(-1,1), z_test_var.reshape(-1,1), z_test_std.reshape(-1,1), z_test_max.reshape(-1,1), z_test_min.reshape(-1,1)), axis=1)\n",
    "print(z_test_feature.shape)\n",
    "\n",
    "path_e = 'C:/Users/kbj/Downloads/data/test/e/'\n",
    "data_test_e_list = os.listdir('C:/Users/kbj/Downloads/data/test/e/')\n",
    "e_test_mean = np.array([])\n",
    "e_test_var = np.array([])\n",
    "e_test_std = np.array([])\n",
    "e_test_max = np.array([])\n",
    "e_test_min = np.array([])\n",
    "\n",
    "for i in data_test_e_list:\n",
    "    df = pd.read_csv(path_e+i, header=None)\n",
    "    mean = np.mean(df.to_numpy())\n",
    "    var = np.var(df.to_numpy())\n",
    "    std = np.std(df.to_numpy())\n",
    "    max = np.max(df.to_numpy())\n",
    "    min = np.min(df.to_numpy())\n",
    "    e_test_mean = np.append(e_test_mean, mean)\n",
    "    e_test_var = np.append(e_test_var, var)\n",
    "    e_test_std = np.append(e_test_std, std)\n",
    "    e_test_max = np.append(e_test_max, max)\n",
    "    e_test_min = np.append(e_test_min, min)\n",
    "\n",
    "e_test_feature = np.concatenate((e_test_mean.reshape(-1,1), e_test_var.reshape(-1,1), e_test_std.reshape(-1,1), e_test_max.reshape(-1,1), e_test_min.reshape(-1,1)), axis=1)\n",
    "print(e_test_feature.shape)\n",
    "\n",
    "#xyz_test_feature = np.sqrt(np.square(x_test_feature[:,0])+np.square(y_test_feature[:,0])+np.square(z_test_feature[:,0]))\n",
    "#xyz_test_feature = xyz_test_feature.reshape(-1,1)\n",
    "#all_test_feature = np.concatenate((x_test_feature, y_test_feature, z_test_feature, e_test_feature, xyz_test_feature), axis=1)\n",
    "\n",
    "all_test_feature = np.concatenate((x_test_feature, y_test_feature, z_test_feature, e_test_feature), axis=1)\n",
    "print(all_test_feature.shape)\n",
    "\n",
    "test_label = pd.read_csv('C:/Users/kbj/Downloads/data/test/test_label.csv', header=None)\n",
    "test_label = test_label.to_numpy()\n",
    "\n",
    "print(test_label.shape)"
   ]
  },
  {
   "cell_type": "code",
   "execution_count": 10,
   "metadata": {},
   "outputs": [
    {
     "name": "stdout",
     "output_type": "stream",
     "text": [
      "(700, 20)\n",
      "(700, 1)\n",
      "(1400, 20)\n",
      "(1400, 1)\n"
     ]
    }
   ],
   "source": [
    "print(all_train_feature.shape)\n",
    "print(train_label.shape)\n",
    "\n",
    "print(all_test_feature.shape)\n",
    "print(test_label.shape)\n"
   ]
  },
  {
   "cell_type": "code",
   "execution_count": 11,
   "metadata": {},
   "outputs": [],
   "source": [
    "X_train = torch.Tensor(all_train_feature)\n",
    "Y_train = torch.LongTensor(train_label.reshape(-1))\n",
    "X_test = torch.Tensor(all_test_feature)\n",
    "Y_test = torch.LongTensor(test_label.reshape(-1))\n",
    "\n",
    "ds_train = TensorDataset(X_train, Y_train)\n",
    "ds_test = TensorDataset(X_test, Y_test)\n",
    "\n",
    "loader_train = DataLoader(ds_train, batch_size=128, shuffle=True)\n",
    "loader_test = DataLoader(ds_test, shuffle=False)"
   ]
  },
  {
   "cell_type": "code",
   "execution_count": 12,
   "metadata": {},
   "outputs": [],
   "source": [
    "linear1 = torch.nn.Linear(20,64, bias=True)\n",
    "linear2 = torch.nn.Linear(64,256, bias=True)\n",
    "linear3 = torch.nn.Linear(256,128, bias=True)\n",
    "linear4 = torch.nn.Linear(128,8, bias=True)\n",
    "#linear5 = torch.nn.Linear(128,32, bias=True)\n",
    "#linear6 = torch.nn.Linear(32,8, bias=True)\n",
    "relu = torch.nn.ReLU()\n",
    "dropout = torch.nn.Dropout(p=0.1)\n",
    "\n",
    "model1 = torch.nn.Sequential(linear1, relu, dropout,\n",
    "                           linear2, relu, dropout,\n",
    "                           linear3, relu, dropout,\n",
    "                           linear4)\n",
    "\n",
    "model = torch.nn.Sequential(linear1, relu, \n",
    "                           linear2, relu, \n",
    "                           linear3, relu, \n",
    "                           linear4)"
   ]
  },
  {
   "cell_type": "code",
   "execution_count": 13,
   "metadata": {},
   "outputs": [],
   "source": [
    "# 오차함수 선택\n",
    "loss_fn = nn.CrossEntropyLoss()\n",
    "\n",
    "# 가중치를 학습하기 위한 최적화 기법 선택\n",
    "optimizer = optim.Adam(model1.parameters(), lr=0.01, weight_decay=1e-5)\n",
    "\n",
    "losses=[]"
   ]
  },
  {
   "cell_type": "code",
   "execution_count": 14,
   "metadata": {},
   "outputs": [
    {
     "name": "stdout",
     "output_type": "stream",
     "text": [
      "Epoch    0/10000 Cost: 2.000527\n",
      "Epoch  100/10000 Cost: 0.907854\n",
      "Epoch  200/10000 Cost: 0.624629\n",
      "Epoch  300/10000 Cost: 0.679142\n",
      "Epoch  400/10000 Cost: 0.506508\n",
      "Epoch  500/10000 Cost: 0.718553\n",
      "Epoch  600/10000 Cost: 0.653394\n",
      "Epoch  700/10000 Cost: 0.427833\n",
      "Epoch  800/10000 Cost: 0.449224\n",
      "Epoch  900/10000 Cost: 0.366225\n",
      "Epoch 1000/10000 Cost: 0.270380\n",
      "Epoch 1100/10000 Cost: 0.666037\n",
      "Epoch 1200/10000 Cost: 0.329103\n",
      "Epoch 1300/10000 Cost: 0.462382\n",
      "Epoch 1400/10000 Cost: 0.350375\n",
      "Epoch 1500/10000 Cost: 0.404323\n",
      "Epoch 1600/10000 Cost: 0.305279\n",
      "Epoch 1700/10000 Cost: 0.450613\n",
      "Epoch 1800/10000 Cost: 0.282192\n",
      "Epoch 1900/10000 Cost: 0.236652\n",
      "Epoch 2000/10000 Cost: 0.274313\n",
      "Epoch 2100/10000 Cost: 0.338451\n",
      "Epoch 2200/10000 Cost: 0.224587\n",
      "Epoch 2300/10000 Cost: 0.683173\n",
      "Epoch 2400/10000 Cost: 0.136464\n",
      "Epoch 2500/10000 Cost: 0.137829\n",
      "Epoch 2600/10000 Cost: 0.177039\n",
      "Epoch 2700/10000 Cost: 0.128236\n",
      "Epoch 2800/10000 Cost: 0.135933\n",
      "Epoch 2900/10000 Cost: 0.073263\n",
      "Epoch 3000/10000 Cost: 0.184844\n",
      "Epoch 3100/10000 Cost: 0.173098\n",
      "Epoch 3200/10000 Cost: 0.130332\n",
      "Epoch 3300/10000 Cost: 0.186968\n",
      "Epoch 3400/10000 Cost: 0.540392\n",
      "Epoch 3500/10000 Cost: 0.046943\n",
      "Epoch 3600/10000 Cost: 0.089601\n",
      "Epoch 3700/10000 Cost: 0.149611\n",
      "Epoch 3800/10000 Cost: 0.181286\n",
      "Epoch 3900/10000 Cost: 0.008584\n",
      "Epoch 4000/10000 Cost: 0.046613\n",
      "Epoch 4100/10000 Cost: 0.071161\n",
      "Epoch 4200/10000 Cost: 0.148121\n",
      "Epoch 4300/10000 Cost: 0.105725\n",
      "Epoch 4400/10000 Cost: 0.170605\n",
      "Epoch 4500/10000 Cost: 0.097843\n",
      "Epoch 4600/10000 Cost: 0.088040\n",
      "Epoch 4700/10000 Cost: 0.172370\n",
      "Epoch 4800/10000 Cost: 0.058155\n",
      "Epoch 4900/10000 Cost: 0.163757\n",
      "Epoch 5000/10000 Cost: 0.026523\n",
      "Epoch 5100/10000 Cost: 0.182437\n",
      "Epoch 5200/10000 Cost: 0.089153\n",
      "Epoch 5300/10000 Cost: 0.080867\n",
      "Epoch 5400/10000 Cost: 0.013568\n",
      "Epoch 5500/10000 Cost: 0.043105\n",
      "Epoch 5600/10000 Cost: 0.008433\n",
      "Epoch 5700/10000 Cost: 0.010276\n",
      "Epoch 5800/10000 Cost: 0.028091\n",
      "Epoch 5900/10000 Cost: 0.065839\n",
      "Epoch 6000/10000 Cost: 0.046602\n",
      "Epoch 6100/10000 Cost: 0.413239\n",
      "Epoch 6200/10000 Cost: 0.008233\n",
      "Epoch 6300/10000 Cost: 0.064317\n",
      "Epoch 6400/10000 Cost: 0.027900\n",
      "Epoch 6500/10000 Cost: 0.030507\n",
      "Epoch 6600/10000 Cost: 0.012090\n",
      "Epoch 6700/10000 Cost: 0.023309\n",
      "Epoch 6800/10000 Cost: 0.018065\n",
      "Epoch 6900/10000 Cost: 0.229073\n",
      "Epoch 7000/10000 Cost: 0.019067\n",
      "Epoch 7100/10000 Cost: 0.026521\n",
      "Epoch 7200/10000 Cost: 0.155509\n",
      "Epoch 7300/10000 Cost: 0.033629\n",
      "Epoch 7400/10000 Cost: 0.043899\n",
      "Epoch 7500/10000 Cost: 0.059901\n",
      "Epoch 7600/10000 Cost: 0.010326\n",
      "Epoch 7700/10000 Cost: 0.032619\n",
      "Epoch 7800/10000 Cost: 0.018290\n",
      "Epoch 7900/10000 Cost: 0.010629\n",
      "Epoch 8000/10000 Cost: 0.091460\n",
      "Epoch 8100/10000 Cost: 0.022127\n",
      "Epoch 8200/10000 Cost: 0.892505\n",
      "Epoch 8300/10000 Cost: 0.020985\n",
      "Epoch 8400/10000 Cost: 0.008249\n",
      "Epoch 8500/10000 Cost: 0.060707\n",
      "Epoch 8600/10000 Cost: 0.032430\n",
      "Epoch 8700/10000 Cost: 0.329249\n",
      "Epoch 8800/10000 Cost: 0.010002\n",
      "Epoch 8900/10000 Cost: 0.010190\n",
      "Epoch 9000/10000 Cost: 0.009643\n",
      "Epoch 9100/10000 Cost: 0.007308\n",
      "Epoch 9200/10000 Cost: 0.039041\n",
      "Epoch 9300/10000 Cost: 0.007712\n",
      "Epoch 9400/10000 Cost: 0.078633\n",
      "Epoch 9500/10000 Cost: 0.003706\n",
      "Epoch 9600/10000 Cost: 0.077079\n",
      "Epoch 9700/10000 Cost: 0.026841\n",
      "Epoch 9800/10000 Cost: 0.014881\n",
      "Epoch 9900/10000 Cost: 0.050443\n",
      "1152.2118089199066\n"
     ]
    }
   ],
   "source": [
    "start_time = time.time()\n",
    "epoch_num = 10000\n",
    "for epoch in range(epoch_num):\n",
    "    for X,Y in loader_train:\n",
    "        optimizer.zero_grad()\n",
    "        y_pred = model(X)\n",
    "        loss = loss_fn(y_pred, Y)\n",
    "        loss.backward()\n",
    "        optimizer.step()\n",
    "    \n",
    "    if epoch%100 == 0:\n",
    "        print('Epoch {:4d}/{} Cost: {:.6f}'.format(epoch,epoch_num,loss.item()))\n",
    "    losses.append(loss.item())\n",
    "\n",
    "duration=time.time()-start_time\n",
    "print(duration)"
   ]
  },
  {
   "cell_type": "code",
   "execution_count": 15,
   "metadata": {},
   "outputs": [
    {
     "data": {
      "image/png": "[encoded data removed]",
      "text/plain": [
       "<Figure size 432x288 with 1 Axes>"
      ]
     },
     "metadata": {
      "needs_background": "light"
     },
     "output_type": "display_data"
    }
   ],
   "source": [
    "plt.plot(losses)\n",
    "plt.figure(1)\n",
    "plt.title('MLP')\n",
    "plt.xlabel('Epoch')\n",
    "plt.ylabel('Cost')\n",
    "plt.show()"
   ]
  },
  {
   "cell_type": "code",
   "execution_count": 16,
   "metadata": {},
   "outputs": [
    {
     "name": "stdout",
     "output_type": "stream",
     "text": [
      "Accuracy of the network on the 1400 test data: 86.50 %\n",
      "맞춘 개수: 1211개\n",
      "전체 데이터 개수: 1400개\n"
     ]
    }
   ],
   "source": [
    "correct = 0\n",
    "total = 0\n",
    "pre=[]\n",
    "with torch.no_grad():\n",
    "    for data in loader_test:\n",
    "        X, Y = data\n",
    "        outputs = model(X)\n",
    "        _, predicted = torch.max(outputs.data, 1)\n",
    "        total += Y.size(0)\n",
    "        correct += (predicted == Y).sum().item()\n",
    "        predicted = predicted.tolist()\n",
    "        pre.append(predicted)\n",
    "        \n",
    "print('Accuracy of the network on the 1400 test data: %.2f %%' %(100 * correct / total))\n",
    "print('맞춘 개수: %d개' %correct)\n",
    "print('전체 데이터 개수: %d개' %total)"
   ]
  },
  {
   "cell_type": "code",
   "execution_count": 17,
   "metadata": {},
   "outputs": [
    {
     "name": "stdout",
     "output_type": "stream",
     "text": [
      "[[149  19   4   0   0   0  28]\n",
      " [ 11 168   3   1   1   0  16]\n",
      " [ 21   0 161  14   0   0   4]\n",
      " [  0   7  11 181   0   1   0]\n",
      " [  0   0   0   0 194   6   0]\n",
      " [  0   0   0   0   2 198   0]\n",
      " [ 17  18   4   0   0   1 160]]\n"
     ]
    }
   ],
   "source": [
    "from sklearn.metrics import confusion_matrix\n",
    "print(confusion_matrix(test_label.reshape(-1),pre))"
   ]
  },
  {
   "cell_type": "code",
   "execution_count": null,
   "metadata": {},
   "outputs": [],
   "source": []
  }
 ],
 "metadata": {
  "colab": {
   "collapsed_sections": [],
   "name": "Copy of colab-tutorial.ipynb",
   "provenance": [
    {
     "file_id": "https://github.com/cs231n/cs231n.github.io/blob/master/python-colab.ipynb",
     "timestamp": 1615471433774
    }
   ]
  },
  "kernelspec": {
   "display_name": "Python 3.8.8 ('base')",
   "language": "python",
   "name": "python3"
  },
  "language_info": {
   "codemirror_mode": {
    "name": "ipython",
    "version": 3
   },
   "file_extension": ".py",
   "mimetype": "text/x-python",
   "name": "python",
   "nbconvert_exporter": "python",
   "pygments_lexer": "ipython3",
   "version": "3.8.8"
  },
  "vscode": {
   "interpreter": {
    "hash": "c644af2b13e56b04db7589c61fc8993524f91b02323464e25eb4a200df9a07b2"
   }
  }
 },
 "nbformat": 4,
 "nbformat_minor": 1
}
